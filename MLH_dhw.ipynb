{
  "nbformat": 4,
  "nbformat_minor": 0,
  "metadata": {
    "colab": {
      "provenance": [],
      "authorship_tag": "ABX9TyMT9WvvIbBMmTYwbsBytOa3",
      "include_colab_link": true
    },
    "kernelspec": {
      "name": "python3",
      "display_name": "Python 3"
    },
    "language_info": {
      "name": "python"
    }
  },
  "cells": [
    {
      "cell_type": "markdown",
      "metadata": {
        "id": "view-in-github",
        "colab_type": "text"
      },
      "source": [
        "<a href=\"https://colab.research.google.com/github/ShivaNagachander/Data-hack-week-Projects/blob/main/MLH_dhw.ipynb\" target=\"_parent\"><img src=\"https://colab.research.google.com/assets/colab-badge.svg\" alt=\"Open In Colab\"/></a>"
      ]
    },
    {
      "cell_type": "code",
      "execution_count": null,
      "metadata": {
        "colab": {
          "base_uri": "https://localhost:8080/"
        },
        "id": "kHtjLUrIXkGo",
        "outputId": "e494c3ad-1d42-4eed-a557-25ad0dfee0fb"
      },
      "outputs": [
        {
          "output_type": "stream",
          "name": "stdout",
          "text": [
            "Enter a city name and country code (e.g., New York, US): New York, US\n",
            "Temperature: 18.62°C\n",
            "Weather Condition: clear\n",
            "Wind Speed: 2.57 m/s\n",
            "Good weather for cycling! Get on your bike!\n"
          ]
        }
      ],
      "source": [
        "import requests\n",
        "\n",
        "def get_weather_data(location):\n",
        "    api_key = \"youe_api_key\"  # Replace with your actual API key\n",
        "    url = f\"http://api.openweathermap.org/data/2.5/weather?q={location}&units=metric&appid={api_key}\"\n",
        "    response = requests.get(url)\n",
        "    data = response.json()\n",
        "    return data\n",
        "\n",
        "def is_good_weather(weather_data):\n",
        "    temperature = weather_data['main']['temp']\n",
        "    weather_condition = weather_data['weather'][0]['main'].lower()\n",
        "    wind_speed = weather_data['wind']['speed']\n",
        "\n",
        "    print(f\"Temperature: {temperature}°C\")\n",
        "    print(f\"Weather Condition: {weather_condition}\")\n",
        "    print(f\"Wind Speed: {wind_speed} m/s\")\n",
        "\n",
        "    if 15 <= temperature <= 30 and weather_condition == 'clear':\n",
        "        return True\n",
        "    return False\n",
        "\n",
        "def send_alert(cycling_weather):\n",
        "    if cycling_weather:\n",
        "        return \"Good weather for cycling! Get on your bike!\"\n",
        "    else:\n",
        "        return \"Not the best weather for cycling. Maybe try another time.\"\n",
        "\n",
        "def main():\n",
        "    location = input(\"Enter a city name and country code (e.g., New York, US): \")\n",
        "    weather_data = get_weather_data(location)\n",
        "\n",
        "    if 'main' in weather_data and 'weather' in weather_data and 'wind' in weather_data:\n",
        "        cycling_weather = is_good_weather(weather_data)\n",
        "        alert_text = send_alert(cycling_weather)\n",
        "        print(alert_text)\n",
        "    else:\n",
        "        print(\"Invalid location or API key error.\")\n",
        "\n",
        "if __name__ == \"__main__\":\n",
        "    main()\n"
      ]
    },
    {
      "cell_type": "code",
      "source": [
        "git init\n",
        "\n",
        "\n"
      ],
      "metadata": {
        "id": "ZghqJMIcfzVY",
        "outputId": "99defda5-92f6-4d38-ffda-945a1a2a2683",
        "colab": {
          "base_uri": "https://localhost:8080/",
          "height": 134
        }
      },
      "execution_count": null,
      "outputs": [
        {
          "output_type": "error",
          "ename": "SyntaxError",
          "evalue": "ignored",
          "traceback": [
            "\u001b[0;36m  File \u001b[0;32m\"<ipython-input-31-13eb879b7f23>\"\u001b[0;36m, line \u001b[0;32m1\u001b[0m\n\u001b[0;31m    git init\u001b[0m\n\u001b[0m        ^\u001b[0m\n\u001b[0;31mSyntaxError\u001b[0m\u001b[0;31m:\u001b[0m invalid syntax\n"
          ]
        }
      ]
    }
  ]
}